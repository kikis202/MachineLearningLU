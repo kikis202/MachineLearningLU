{
 "cells": [
  {
   "cell_type": "code",
   "execution_count": 1,
   "metadata": {
    "collapsed": true,
    "pycharm": {
     "name": "#%%\n"
    }
   },
   "outputs": [],
   "source": [
    "import math\n",
    "\n",
    "\n",
    "def sigmoid(z):\n",
    "    return 1 / (1 + math.e ** z)"
   ]
  },
  {
   "cell_type": "code",
   "execution_count": 2,
   "outputs": [],
   "source": [
    "def andbool(x1, x2):\n",
    "    b = 15\n",
    "    w1, w2 = (-10, -10)\n",
    "    z = w1 * x1 + w2 * x2 + b\n",
    "    return sigmoid(z)"
   ],
   "metadata": {
    "collapsed": false,
    "pycharm": {
     "name": "#%%\n"
    }
   }
  },
  {
   "cell_type": "code",
   "execution_count": 3,
   "outputs": [],
   "source": [
    "def orbool(x1, x2):\n",
    "    b = 5\n",
    "    w1, w2 = (-10, -10)\n",
    "    z = w1 * x1 + w2 * x2 + b\n",
    "    return sigmoid(z)"
   ],
   "metadata": {
    "collapsed": false,
    "pycharm": {
     "name": "#%%\n"
    }
   }
  },
  {
   "cell_type": "code",
   "execution_count": 4,
   "outputs": [],
   "source": [
    "def notbool(x):\n",
    "    w = 10\n",
    "    b = -5\n",
    "    z = w * x + b\n",
    "    return sigmoid(z)"
   ],
   "metadata": {
    "collapsed": false,
    "pycharm": {
     "name": "#%%\n"
    }
   }
  },
  {
   "cell_type": "code",
   "execution_count": 5,
   "outputs": [],
   "source": [
    "def xorbool(x1, x2):\n",
    "    xx1 = notbool(andbool(x1, x2))\n",
    "    xx2 = orbool(x1, x2)\n",
    "    return andbool(xx1, xx2)"
   ],
   "metadata": {
    "collapsed": false,
    "pycharm": {
     "name": "#%%\n"
    }
   }
  },
  {
   "cell_type": "code",
   "execution_count": 6,
   "outputs": [
    {
     "name": "stdout",
     "output_type": "stream",
     "text": [
      "Not\n",
      "0.006692850924284857\n",
      "0.9933071490757153\n",
      "And\n",
      "0.9933071490757153\n",
      "0.006692850924284857\n",
      "0.006692850924284857\n",
      "3.05902226925625e-07\n",
      "Or\n",
      "0.999999694097773\n",
      "0.9933071490757153\n",
      "0.9933071490757153\n",
      "0.006692850924284857\n",
      "XOr\n",
      "0.00718552691268377\n",
      "0.99232089391565\n",
      "0.99232089391565\n",
      "0.0066928495722973535\n"
     ]
    }
   ],
   "source": [
    "print(\"Not\")\n",
    "print(notbool(1))\n",
    "print(notbool(0))\n",
    "print(\"And\")\n",
    "print(andbool(1, 1))\n",
    "print(andbool(1, 0))\n",
    "print(andbool(0, 1))\n",
    "print(andbool(0, 0))\n",
    "print(\"Or\")\n",
    "print(orbool(1, 1))\n",
    "print(orbool(1, 0))\n",
    "print(orbool(0, 1))\n",
    "print(orbool(0, 0))\n",
    "print(\"XOr\")\n",
    "print(xorbool(1, 1))\n",
    "print(xorbool(1, 0))\n",
    "print(xorbool(0, 1))\n",
    "print(xorbool(0, 0))"
   ],
   "metadata": {
    "collapsed": false,
    "pycharm": {
     "name": "#%%\n"
    }
   }
  }
 ],
 "metadata": {
  "kernelspec": {
   "display_name": "Python 3",
   "language": "python",
   "name": "python3"
  },
  "language_info": {
   "codemirror_mode": {
    "name": "ipython",
    "version": 2
   },
   "file_extension": ".py",
   "mimetype": "text/x-python",
   "name": "python",
   "nbconvert_exporter": "python",
   "pygments_lexer": "ipython2",
   "version": "2.7.6"
  }
 },
 "nbformat": 4,
 "nbformat_minor": 0
}