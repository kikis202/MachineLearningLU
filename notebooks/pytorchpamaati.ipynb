{
 "cells": [
  {
   "cell_type": "code",
   "execution_count": 1,
   "metadata": {
    "collapsed": true,
    "pycharm": {
     "name": "#%%\n"
    }
   },
   "outputs": [],
   "source": [
    "import torch"
   ]
  },
  {
   "cell_type": "code",
   "execution_count": 2,
   "outputs": [],
   "source": [
    "x = torch.tensor(\n",
    "    [\n",
    "        [1, 2],\n",
    "        [3, 4],\n",
    "        [5, 6]\n",
    "    ],\n",
    "    dtype=torch.float32\n",
    ")"
   ],
   "metadata": {
    "collapsed": false,
    "pycharm": {
     "name": "#%%\n"
    }
   }
  },
  {
   "cell_type": "code",
   "execution_count": 3,
   "outputs": [
    {
     "name": "stdout",
     "output_type": "stream",
     "text": [
      "tensor([[1., 2.],\n",
      "        [3., 4.],\n",
      "        [5., 6.]])\n",
      "torch.Size([3, 2])\n",
      "tensor([[2., 3.],\n",
      "        [4., 5.],\n",
      "        [6., 7.]])\n",
      "tensor([[ 1.,  4.],\n",
      "        [ 9., 16.],\n",
      "        [25., 36.]])\n"
     ]
    }
   ],
   "source": [
    "print(x)\n",
    "print(x.size())\n",
    "print(x+1)\n",
    "print(x*x)"
   ],
   "metadata": {
    "collapsed": false,
    "pycharm": {
     "name": "#%%\n"
    }
   }
  },
  {
   "cell_type": "code",
   "execution_count": 4,
   "outputs": [
    {
     "name": "stdout",
     "output_type": "stream",
     "text": [
      "tensor([[1., 3., 5.],\n",
      "        [2., 4., 6.]])\n",
      "tensor([[35., 44.],\n",
      "        [44., 56.]])\n"
     ]
    }
   ],
   "source": [
    "print(x.T)\n",
    "print(x.T.mm(x))  # Matricu reizināšana"
   ],
   "metadata": {
    "collapsed": false,
    "pycharm": {
     "name": "#%%\n"
    }
   }
  },
  {
   "cell_type": "code",
   "execution_count": 5,
   "outputs": [
    {
     "name": "stdout",
     "output_type": "stream",
     "text": [
      "tensor([[0.7154, 0.9062],\n",
      "        [0.7143, 0.3768],\n",
      "        [0.7727, 0.4379]])\n",
      "tensor([[1., 1.],\n",
      "        [1., 1.],\n",
      "        [1., 1.]])\n",
      "tensor([[0., 0.],\n",
      "        [0., 0.],\n",
      "        [0., 0.]])\n"
     ]
    }
   ],
   "source": [
    "print(torch.rand(3,2))\n",
    "print(torch.ones(3,2))\n",
    "print(torch.zeros(3,2))"
   ],
   "metadata": {
    "collapsed": false,
    "pycharm": {
     "name": "#%%\n"
    }
   }
  },
  {
   "cell_type": "code",
   "execution_count": 6,
   "outputs": [
    {
     "data": {
      "text/plain": "[0, 1, 1, 0]"
     },
     "execution_count": 6,
     "metadata": {},
     "output_type": "execute_result"
    }
   ],
   "source": [
    "ievaddati = [[0, 0], [0, 1], [1, 0], [1, 1]] # Visas 4 kombinācijas\n",
    "rezultāts_or = [x[0] or x[1] for x in ievaddati]\n",
    "rezultāts_and = [x[0] and x[1] for x in ievaddati]\n",
    "rezultāts_xor = [x[0] ^ x[1] for x in ievaddati]\n",
    "rezultāts_xor\n",
    "# Šie ir python saraksti nevis pytorch tenzori!"
   ],
   "metadata": {
    "collapsed": false,
    "pycharm": {
     "name": "#%%\n"
    }
   }
  },
  {
   "cell_type": "code",
   "execution_count": 7,
   "outputs": [
    {
     "data": {
      "text/plain": "tensor([[0., 0.],\n        [0., 1.],\n        [1., 0.],\n        [1., 1.]])"
     },
     "execution_count": 7,
     "metadata": {},
     "output_type": "execute_result"
    }
   ],
   "source": [
    "ievaddati = torch.tensor(ievaddati, dtype=torch.float32)\n",
    "rezultāts_or = torch.tensor(rezultāts_or, dtype=torch.float32)\n",
    "rezultāts_and = torch.tensor(rezultāts_and, dtype=torch.float32)\n",
    "rezultāts_xor = torch.tensor(rezultāts_xor, dtype=torch.float32)\n",
    "ievaddati"
   ],
   "metadata": {
    "collapsed": false,
    "pycharm": {
     "name": "#%%\n"
    }
   }
  },
  {
   "cell_type": "code",
   "execution_count": 8,
   "outputs": [
    {
     "data": {
      "text/plain": "tensor([10., 10.])"
     },
     "execution_count": 8,
     "metadata": {},
     "output_type": "execute_result"
    }
   ],
   "source": [
    "b = torch.tensor(-5.0)\n",
    "w = torch.tensor([10.0, 10.0])\n",
    "w"
   ],
   "metadata": {
    "collapsed": false,
    "pycharm": {
     "name": "#%%\n"
    }
   }
  },
  {
   "cell_type": "code",
   "execution_count": 9,
   "outputs": [
    {
     "name": "stdout",
     "output_type": "stream",
     "text": [
      "No tensor([0., 0.]) gribam dabūt 0.0\n",
      "No tensor([0., 1.]) gribam dabūt 1.0\n",
      "No tensor([1., 0.]) gribam dabūt 1.0\n",
      "No tensor([1., 1.]) gribam dabūt 1.0\n"
     ]
    }
   ],
   "source": [
    "for ievads, cerētais in zip(ievaddati, rezultāts_or):\n",
    "  print(f'No {ievads} gribam dabūt {cerētais}')"
   ],
   "metadata": {
    "collapsed": false,
    "pycharm": {
     "name": "#%%\n"
    }
   }
  },
  {
   "cell_type": "code",
   "execution_count": 10,
   "outputs": [
    {
     "name": "stdout",
     "output_type": "stream",
     "text": [
      "tensor(-5.) tensor(0.0067)\n",
      "tensor(5.) tensor(0.9933)\n",
      "tensor(5.) tensor(0.9933)\n",
      "tensor(15.) tensor(1.0000)\n"
     ]
    }
   ],
   "source": [
    "for ievads, cerētais in zip(ievaddati, rezultāts_or):\n",
    "    z = b + w @ ievads\n",
    "    rezultāts = torch.sigmoid(z)\n",
    "    print(z, rezultāts)"
   ],
   "metadata": {
    "collapsed": false,
    "pycharm": {
     "name": "#%%\n"
    }
   }
  },
  {
   "cell_type": "code",
   "execution_count": 11,
   "outputs": [
    {
     "name": "stdout",
     "output_type": "stream",
     "text": [
      "No tensor([0., 0.]) gribējām dabūt 0.0, sanāca 0.00669\n",
      "No tensor([0., 1.]) gribējām dabūt 1.0, sanāca 0.99331\n",
      "No tensor([1., 0.]) gribējām dabūt 1.0, sanāca 0.99331\n",
      "No tensor([1., 1.]) gribējām dabūt 1.0, sanāca 1.00000\n",
      "No visiem piemēriem vidējā kvadrātiskā kļūda ir 0.00003\n"
     ]
    }
   ],
   "source": [
    "sliktums = 0\n",
    "for ievads, cerētais in zip(ievaddati, rezultāts_or):\n",
    "    z = b + w @ ievads\n",
    "    rezultāts = torch.sigmoid(z)\n",
    "    kļūda = torch.square(rezultāts-cerētais)\n",
    "    sliktums += kļūda\n",
    "    print(f'No {ievads} gribējām dabūt {cerētais}, sanāca {rezultāts:.5f}')\n",
    "print(f'No visiem piemēriem vidējā kvadrātiskā kļūda ir {sliktums/len(ievaddati):.5f}')"
   ],
   "metadata": {
    "collapsed": false,
    "pycharm": {
     "name": "#%%\n"
    }
   }
  },
  {
   "cell_type": "code",
   "execution_count": 12,
   "outputs": [
    {
     "name": "stdout",
     "output_type": "stream",
     "text": [
      "No tensor([0., 0.]) gribējām dabūt 0.0, sanāca 0.00669\n",
      "No tensor([0., 1.]) gribējām dabūt 0.0, sanāca 0.99331\n",
      "No tensor([1., 0.]) gribējām dabūt 0.0, sanāca 0.99331\n",
      "No tensor([1., 1.]) gribējām dabūt 1.0, sanāca 1.00000\n",
      "No visiem piemēriem vidējā kvadrātiskā kļūda ir 0.49334\n"
     ]
    }
   ],
   "source": [
    "sliktums = 0\n",
    "for ievads, cerētais in zip(ievaddati, rezultāts_and):\n",
    "    z = b + w @ ievads\n",
    "    rezultāts = torch.sigmoid(z)\n",
    "    kļūda = torch.square(rezultāts-cerētais)\n",
    "    sliktums += kļūda\n",
    "    print(f'No {ievads} gribējām dabūt {cerētais}, sanāca {rezultāts:.5f}')\n",
    "print(f'No visiem piemēriem vidējā kvadrātiskā kļūda ir {sliktums/len(ievaddati):.5f}')"
   ],
   "metadata": {
    "collapsed": false,
    "pycharm": {
     "name": "#%%\n"
    }
   }
  },
  {
   "cell_type": "code",
   "execution_count": 13,
   "outputs": [
    {
     "name": "stdout",
     "output_type": "stream",
     "text": [
      "No tensor([0., 0.]) gribējām dabūt 0.0, sanāca 0.00669\n",
      "No tensor([0., 1.]) gribējām dabūt 0.0, sanāca 0.99331\n",
      "No tensor([1., 0.]) gribējām dabūt 0.0, sanāca 0.99331\n",
      "No tensor([1., 1.]) gribējām dabūt 1.0, sanāca 1.00000\n",
      "No visiem piemēriem vidējā kvadrātiskā kļūda ir 0.49334\n",
      "tensor(0.0265)\n",
      "tensor([0.0132, 0.0132])\n"
     ]
    }
   ],
   "source": [
    "b = torch.tensor(-5.0, requires_grad = True)\n",
    "w = torch.tensor([10.0, 10.0], requires_grad = True)\n",
    "sliktums = torch.tensor(0.0)\n",
    "for ievads, cerētais in zip(ievaddati, rezultāts_and):\n",
    "    z = b + w @ ievads\n",
    "    rezultāts = torch.sigmoid(z)\n",
    "    kļūda = torch.square(rezultāts-cerētais)\n",
    "    sliktums += kļūda\n",
    "    print(f'No {ievads} gribējām dabūt {cerētais}, sanāca {rezultāts:.5f}')\n",
    "print(f'No visiem piemēriem vidējā kvadrātiskā kļūda ir {sliktums/len(ievaddati):.5f}')\n",
    "sliktums.backward()\n",
    "print(b.grad)\n",
    "print(w.grad)"
   ],
   "metadata": {
    "collapsed": false,
    "pycharm": {
     "name": "#%%\n"
    }
   }
  },
  {
   "cell_type": "code",
   "execution_count": 51,
   "outputs": [
    {
     "name": "stdout",
     "output_type": "stream",
     "text": [
      "No tensor([0., 0.]) gribējām dabūt 0.0, sanāca 1.00000\n",
      "No tensor([0., 1.]) gribējām dabūt 0.0, sanāca 0.99753\n",
      "No tensor([1., 0.]) gribējām dabūt 0.0, sanāca 0.99999\n",
      "No tensor([1., 1.]) gribējām dabūt 1.0, sanāca 0.95257\n",
      "No visiem piemēriem vidējā kvadrātiskā kļūda ir 0.74943 ar b: 15.0 un w: tensor([-3., -9.], requires_grad=True)\n",
      "No tensor([0., 0.]) gribējām dabūt 0.0, sanāca 0.99932\n",
      "No tensor([0., 1.]) gribējām dabūt 0.0, sanāca 0.00233\n",
      "No tensor([1., 0.]) gribējām dabūt 0.0, sanāca 1.00000\n",
      "No tensor([1., 1.]) gribējām dabūt 1.0, sanāca 0.98734\n",
      "No visiem piemēriem vidējā kvadrātiskā kļūda ir 0.49970 ar b: 7.299981594085693 un w: tensor([ 10.4144, -13.3575], requires_grad=True)\n"
     ]
    }
   ],
   "source": [
    "import random\n",
    "\n",
    "b = torch.tensor(random.randint(-15,15), requires_grad = True, dtype=torch.float32)\n",
    "w = torch.tensor([random.randint(-15,15), random.randint(-15,15)], requires_grad = True, dtype=torch.float32)\n",
    "\n",
    "for ievads, cerētais in zip(ievaddati, rezultāts_and):\n",
    "    z = b + w @ ievads\n",
    "    rezultāts = torch.sigmoid(z)\n",
    "    kļūda = torch.square(rezultāts-cerētais)\n",
    "    sliktums += kļūda\n",
    "    print(f'No {ievads} gribējām dabūt {cerētais}, sanāca {rezultāts:.5f}')\n",
    "print(f'No visiem piemēriem vidējā kvadrātiskā kļūda ir {sliktums/len(ievaddati):.5f} ar b: {b} un w: {w}')\n",
    "\n",
    "for i in range(50000):\n",
    "    sliktums = torch.tensor(0.0)\n",
    "    for ievads, cerētais in zip(ievaddati, rezultāts_and):\n",
    "        z = b + w @ ievads\n",
    "        rezultāts = torch.sigmoid(z)\n",
    "        kļūda = torch.square(rezultāts-cerētais)\n",
    "        sliktums += kļūda\n",
    "        # print(f'No {ievads} gribējām dabūt {cerētais}, sanāca {rezultāts:.5f}')\n",
    "    # print(f'No visiem piemēriem vidējā kvadrātiskā kļūda ir {sliktums/len(ievaddati):.5f}')\n",
    "    sliktums.backward()\n",
    "\n",
    "    with torch.no_grad():\n",
    "        b -= 0.25 * b.grad\n",
    "        w -= 0.25 * w.grad\n",
    "\n",
    "        b.grad = None\n",
    "        w.grad = None\n",
    "\n",
    "sliktums = torch.tensor(0.0)\n",
    "for ievads, cerētais in zip(ievaddati, rezultāts_and):\n",
    "    z = b + w @ ievads\n",
    "    rezultāts = torch.sigmoid(z)\n",
    "    kļūda = torch.square(rezultāts-cerētais)\n",
    "    sliktums += kļūda\n",
    "    print(f'No {ievads} gribējām dabūt {cerētais}, sanāca {rezultāts:.5f}')\n",
    "print(f'No visiem piemēriem vidējā kvadrātiskā kļūda ir {sliktums/len(ievaddati):.5f} ar b: {b} un w: {w}')\n"
   ],
   "metadata": {
    "collapsed": false,
    "pycharm": {
     "name": "#%%\n"
    }
   }
  }
 ],
 "metadata": {
  "kernelspec": {
   "display_name": "Python 3",
   "language": "python",
   "name": "python3"
  },
  "language_info": {
   "codemirror_mode": {
    "name": "ipython",
    "version": 2
   },
   "file_extension": ".py",
   "mimetype": "text/x-python",
   "name": "python",
   "nbconvert_exporter": "python",
   "pygments_lexer": "ipython2",
   "version": "2.7.6"
  }
 },
 "nbformat": 4,
 "nbformat_minor": 0
}